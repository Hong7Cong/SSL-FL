{
 "cells": [
  {
   "cell_type": "code",
   "execution_count": null,
   "id": "a9b413ca-123f-4a27-8af3-b5a3218fb75d",
   "metadata": {},
   "outputs": [],
   "source": [
    "import json\n",
    "import matplotlib.pyplot as plt\n",
    "from collections import defaultdict"
   ]
  },
  {
   "cell_type": "code",
   "execution_count": null,
   "id": "49e60ce4-213c-4032-bfcf-9af553e58617",
   "metadata": {},
   "outputs": [],
   "source": [
    "prefix='/data/yan/SSL-FL/model_ckpt/'\n",
    "fedavg_prefix='/data/yan/SSL-FL/fedavg_model_ckpt/'\n",
    "\n",
    "cifar_path = 'cifar10_pretrained_beit_base/'\n",
    "imnet_path = 'imnet_pretrained_beit_base/'\n",
    "randn_path = 'random_init_beit_base/'\n",
    "retina_path = 'retina_pretrained_beit_base/'\n",
    "covidx_path = 'covidx_pretrained_beit_base/'"
   ]
  },
  {
   "cell_type": "markdown",
   "id": "1bef7ed6-31c3-4189-992c-4c96b7763f6a",
   "metadata": {},
   "source": [
    "#### BEiT: CIFAR10 pretrain (400 epochs)"
   ]
  },
  {
   "cell_type": "code",
   "execution_count": null,
   "id": "0479a636-d200-48a9-9c4d-9ae318283535",
   "metadata": {},
   "outputs": [],
   "source": [
    "# # reading the data from the file\n",
    "# pretrain_acc = []\n",
    "\n",
    "# with open(fedavg_prefix+cifar_path+'pretrained_epoch400_5e-3_central_itercorrected/log.txt') as f:\n",
    "#     for line in f:\n",
    "#         line = json.loads(line)\n",
    "#         pretrain_acc.append(line['train_mlm_acc'])"
   ]
  },
  {
   "cell_type": "code",
   "execution_count": null,
   "id": "0569b6d6-0b11-47c2-9479-bf2fb1e00556",
   "metadata": {},
   "outputs": [],
   "source": [
    "# plt.plot(pretrain_acc)\n",
    "# plt.title('pretrain_mlm_accuracy (CIFAR10)')\n",
    "# plt.ylabel('mlm_acc')\n",
    "# plt.xlabel('epochs')\n",
    "# plt.legend()"
   ]
  },
  {
   "cell_type": "markdown",
   "id": "15d63df1-fde8-489a-b362-cf9fb79f8896",
   "metadata": {},
   "source": [
    "#### BEiT-FedAvg: own data pretrain"
   ]
  },
  {
   "cell_type": "code",
   "execution_count": null,
   "id": "ceed2a21-70bb-4690-87fc-d159898191c2",
   "metadata": {},
   "outputs": [],
   "source": [
    "split_type='split_1'\n",
    "own_data = 'Retina'\n",
    "n_epoch=2000\n",
    "lr='5e-4'\n",
    "\n",
    "# own_data = 'covidx'\n",
    "# n_epoch=400\n",
    "# lr='1.5e-3'"
   ]
  },
  {
   "cell_type": "code",
   "execution_count": null,
   "id": "7dc4e5bd-414f-4e50-8f4e-0ff34133ca16",
   "metadata": {},
   "outputs": [],
   "source": [
    "# reading the data from the file\n",
    "pretrain_acc = defaultdict(list)\n",
    "with open(fedavg_prefix+f'{own_data}_pretrained_beit_base/'+f'pretrained_epoch{n_epoch}_{split_type}_lr{lr}/log.txt') as f:\n",
    "    for line in f:\n",
    "        line = json.loads(line)\n",
    "        # if line['epoch'] >=500:\n",
    "        #     break\n",
    "        pretrain_acc[line['client']].append(line['train_mlm_acc'])"
   ]
  },
  {
   "cell_type": "code",
   "execution_count": null,
   "id": "46403b48-4a93-4280-acd6-af563d508d48",
   "metadata": {},
   "outputs": [],
   "source": [
    "for client, acc in pretrain_acc.items():\n",
    "    plt.plot(acc, label=client)\n",
    "    plt.title(f'pretrain_mlm_acc ({own_data}, {split_type})')\n",
    "    plt.ylabel('mlm_acc')\n",
    "    plt.xlabel('epochs')\n",
    "    plt.legend(title='client_name')"
   ]
  },
  {
   "cell_type": "code",
   "execution_count": null,
   "id": "9e97cc53-7fd9-4f3f-86e6-43dc42285ba6",
   "metadata": {},
   "outputs": [],
   "source": []
  },
  {
   "cell_type": "raw",
   "id": "d0822440-69d7-484a-9bd2-6024746f30f2",
   "metadata": {},
   "source": []
  },
  {
   "cell_type": "markdown",
   "id": "03381eed-e154-45dc-9b82-3fa402010b5d",
   "metadata": {},
   "source": [
    "#### BEiT-FedAvg: own data SSL pretrained + finetune"
   ]
  },
  {
   "cell_type": "code",
   "execution_count": null,
   "id": "b8d61bc9-dae2-4047-8250-fca3af0dd145",
   "metadata": {},
   "outputs": [],
   "source": [
    "split_type='split_3'\n",
    "own_data = 'Retina'\n",
    "n_epoch=100\n",
    "lr='5e-4'"
   ]
  },
  {
   "cell_type": "code",
   "execution_count": null,
   "id": "d410575d-69f7-423f-a18e-5a6ca93f0d42",
   "metadata": {},
   "outputs": [],
   "source": [
    "class_acc = defaultdict(list)\n",
    "class_val_acc = []\n",
    "with open(fedavg_prefix+f'{own_data}_pretrained_beit_base/'+f'finetune_{own_data}_epoch{n_epoch}_{split_type}_lr{lr}/log.txt') as f:\n",
    "    for line in f:\n",
    "        line = json.loads(line)\n",
    "        try:\n",
    "            class_acc[line['client']].append(line['train_class_acc'])\n",
    "        except:\n",
    "            class_val_acc.append(line['test_acc1'])"
   ]
  },
  {
   "cell_type": "code",
   "execution_count": null,
   "id": "859210f8-43a3-4119-8166-4345868683a2",
   "metadata": {},
   "outputs": [],
   "source": [
    "for client, acc in class_acc.items():\n",
    "    plt.plot(acc, label=client)\n",
    "    plt.title(f'finetune_acc (Retina, {split_type})')\n",
    "    plt.ylabel('acc')\n",
    "    plt.xlabel('epochs')\n",
    "    plt.legend(title='client_name')"
   ]
  },
  {
   "cell_type": "code",
   "execution_count": null,
   "id": "403c63ec-9f67-43ce-8b4c-464f513efbbd",
   "metadata": {},
   "outputs": [],
   "source": [
    "max(class_val_acc)"
   ]
  },
  {
   "cell_type": "markdown",
   "id": "18c789d5-5fe3-405c-a22a-45a8b5a27244",
   "metadata": {},
   "source": [
    "#### BEiT-FedAvg: train from scratch"
   ]
  },
  {
   "cell_type": "code",
   "execution_count": null,
   "id": "ecceb758-afb3-46ee-a7c9-e0b64815372a",
   "metadata": {},
   "outputs": [],
   "source": [
    "split_style='split_3'\n",
    "own_data = 'Retina'\n",
    "n_epoch=500\n",
    "# lr='3e-3'\n",
    "lr='5e-4'"
   ]
  },
  {
   "cell_type": "code",
   "execution_count": null,
   "id": "336b5da7-c060-4b27-9883-530ac92edf5b",
   "metadata": {},
   "outputs": [],
   "source": [
    "# reading the data from the file\n",
    "class_acc = defaultdict(list)\n",
    "class_val_acc = []\n",
    "with open(fedavg_prefix+randn_path+f'finetune_{own_data}_epoch{n_epoch}_{split_style}_lr{lr}/log.txt') as f:\n",
    "    for line in f:\n",
    "        line = json.loads(line)\n",
    "        try:\n",
    "            class_acc[line['client']].append(line['train_class_acc'])\n",
    "        except:\n",
    "            class_val_acc.append(line['test_acc1'])"
   ]
  },
  {
   "cell_type": "code",
   "execution_count": null,
   "id": "a550cb58-bcab-4b81-9111-63f1d94a3da8",
   "metadata": {},
   "outputs": [],
   "source": [
    "for client, acc in class_acc.items():\n",
    "    plt.plot(acc, label=client)\n",
    "    plt.title(f'train_acc ({own_data}, {split_style})')\n",
    "    plt.ylabel('acc')\n",
    "    plt.xlabel('epochs')\n",
    "    plt.legend(title='client_name')"
   ]
  },
  {
   "cell_type": "code",
   "execution_count": null,
   "id": "170c4fe8-c1bd-43ea-ae3b-44abc79437f5",
   "metadata": {},
   "outputs": [],
   "source": [
    "max(class_val_acc)"
   ]
  },
  {
   "cell_type": "markdown",
   "id": "c28ae16a-0fa5-48c1-a4da-7c954d367bd4",
   "metadata": {},
   "source": [
    "#### BEiT-FedAvg: IMNET pretrain + finetune"
   ]
  },
  {
   "cell_type": "code",
   "execution_count": null,
   "id": "460d209c-320f-40c6-b8c2-0ca131e65511",
   "metadata": {},
   "outputs": [],
   "source": [
    "split_style='split_3'\n",
    "own_data = 'Retina'\n",
    "n_epoch=100\n",
    "lr='5e-4'"
   ]
  },
  {
   "cell_type": "code",
   "execution_count": null,
   "id": "6a21e5fa-b046-4ce8-8032-8c5920ce6073",
   "metadata": {},
   "outputs": [],
   "source": [
    "# reading the data from the file\n",
    "class_acc = defaultdict(list)\n",
    "class_val_acc = []\n",
    "with open(fedavg_prefix+imnet_path+f'finetune_{own_data}_epoch{n_epoch}_{split_style}_lr{lr}/log.txt') as f:\n",
    "    for line in f:\n",
    "        line = json.loads(line)\n",
    "        try:\n",
    "            class_acc[line['client']].append(line['train_class_acc'])\n",
    "        except:\n",
    "            class_val_acc.append(line['test_acc1'])"
   ]
  },
  {
   "cell_type": "code",
   "execution_count": null,
   "id": "cec0bfda-d112-4ca4-ad90-371873ed65d7",
   "metadata": {},
   "outputs": [],
   "source": [
    "for client, acc in class_acc.items():\n",
    "    plt.plot(acc, label=client)\n",
    "    plt.title(f'train_acc ({own_data}, {split_style})')\n",
    "    plt.ylabel('acc')\n",
    "    plt.xlabel('epochs')\n",
    "    plt.legend(title='client_name')"
   ]
  },
  {
   "cell_type": "code",
   "execution_count": null,
   "id": "98cbe64d-2433-4671-adf2-173008b62d47",
   "metadata": {},
   "outputs": [],
   "source": [
    "max(class_val_acc)"
   ]
  },
  {
   "cell_type": "code",
   "execution_count": null,
   "id": "e69edb49-8a48-4b23-bb2f-97c77923d577",
   "metadata": {},
   "outputs": [],
   "source": []
  }
 ],
 "metadata": {
  "kernelspec": {
   "display_name": "Python 3 (ipykernel)",
   "language": "python",
   "name": "python3"
  },
  "language_info": {
   "codemirror_mode": {
    "name": "ipython",
    "version": 3
   },
   "file_extension": ".py",
   "mimetype": "text/x-python",
   "name": "python",
   "nbconvert_exporter": "python",
   "pygments_lexer": "ipython3",
   "version": "3.8.12"
  }
 },
 "nbformat": 4,
 "nbformat_minor": 5
}
