{
 "cells": [
  {
   "cell_type": "code",
   "execution_count": 10,
   "metadata": {},
   "outputs": [],
   "source": [
    "import glob\n",
    "import pandas as pd\n",
    "import numpy as np"
   ]
  },
  {
   "cell_type": "code",
   "execution_count": 24,
   "metadata": {},
   "outputs": [],
   "source": [
    "client_1 = pd.read_csv('/mnt/c/Users/PCM/Dropbox/TASF/4_clients/split_1/client_1.csv').to_numpy().flatten()\n",
    "client_2 = pd.read_csv('/mnt/c/Users/PCM/Dropbox/TASF/4_clients/split_1/client_2.csv').to_numpy().flatten()\n",
    "client_3 = pd.read_csv('/mnt/c/Users/PCM/Dropbox/TASF/4_clients/split_1/client_3.csv').to_numpy().flatten()\n",
    "client_4 = pd.read_csv('/mnt/c/Users/PCM/Dropbox/TASF/4_clients/split_1/client_4.csv').to_numpy().flatten()\n",
    "\n",
    "n_1 = len(client_1)\n",
    "n_2 = len(client_2)\n",
    "n_3 = len(client_3)\n",
    "n_4 = len(client_4)\n",
    "\n",
    "np.random.shuffle(client_1)\n",
    "np.random.shuffle(client_2)\n",
    "np.random.shuffle(client_3)\n",
    "np.random.shuffle(client_4)"
   ]
  },
  {
   "cell_type": "code",
   "execution_count": 31,
   "metadata": {},
   "outputs": [
    {
     "data": {
      "text/plain": [
       "array(['10.npy', '100.npy', '1000.npy', ..., 'n0058.npy', 'n0059.npy',\n",
       "       'n0060.npy'], dtype=object)"
      ]
     },
     "execution_count": 31,
     "metadata": {},
     "output_type": "execute_result"
    }
   ],
   "source": [
    "np.concatenate((client_1[:int(n_1/4)], client_2[:int(n_2/4)], client_3[:int(n_3/4)], client_4[:int(n_4/4)]), axis=0)"
   ]
  },
  {
   "cell_type": "code",
   "execution_count": 37,
   "metadata": {},
   "outputs": [],
   "source": [
    "new_client_1 = pd.DataFrame(np.concatenate((client_1[:int(n_1/4)], client_2[:int(n_2/4)], client_3[:int(n_3/4)], client_4[:int(n_4/4)]), axis=0))\n",
    "new_client_2 = pd.DataFrame(np.concatenate((client_1[int(n_1/4):int(n_1*2/4)], client_2[int(n_2/4):int(n_2*2/4)], client_3[int(n_3/4):int(n_3*2/4)], client_4[int(n_4/4):int(n_4*2/4)]), axis=0))\n",
    "new_client_3 = pd.DataFrame(np.concatenate((client_1[int(n_1*2/4):int(n_1*3/4)], client_2[int(n_2*2/4):int(n_2*3/4)], client_3[int(n_3*2/4):int(n_3*3/4)], client_4[int(n_4*2/4):int(n_4*3/4)]), axis=0))\n",
    "new_client_4 = pd.DataFrame(np.concatenate((client_1[int(n_1*3/4):], client_2[int(n_2*3/4):], client_3[int(n_3*3/4):], client_4[int(n_4*3/4):]), axis=0))"
   ]
  },
  {
   "cell_type": "code",
   "execution_count": 46,
   "metadata": {},
   "outputs": [],
   "source": [
    "new_client_1.to_csv('/mnt/c/Users/PCM/Dropbox/TASF/4_clients/split_2/client_1.csv', index=False, header=False)\n",
    "new_client_2.to_csv('/mnt/c/Users/PCM/Dropbox/TASF/4_clients/split_2/client_2.csv', index=False, header=False)\n",
    "new_client_3.to_csv('/mnt/c/Users/PCM/Dropbox/TASF/4_clients/split_2/client_3.csv', index=False, header=False)\n",
    "new_client_4.to_csv('/mnt/c/Users/PCM/Dropbox/TASF/4_clients/split_2/client_4.csv', index=False, header=False)"
   ]
  },
  {
   "cell_type": "code",
   "execution_count": 44,
   "metadata": {},
   "outputs": [
    {
     "name": "stdout",
     "output_type": "stream",
     "text": [
      "3826 3830 3830 3830\n"
     ]
    },
    {
     "data": {
      "text/html": [
       "<div>\n",
       "<style scoped>\n",
       "    .dataframe tbody tr th:only-of-type {\n",
       "        vertical-align: middle;\n",
       "    }\n",
       "\n",
       "    .dataframe tbody tr th {\n",
       "        vertical-align: top;\n",
       "    }\n",
       "\n",
       "    .dataframe thead th {\n",
       "        text-align: right;\n",
       "    }\n",
       "</style>\n",
       "<table border=\"1\" class=\"dataframe\">\n",
       "  <thead>\n",
       "    <tr style=\"text-align: right;\">\n",
       "      <th></th>\n",
       "      <th>0</th>\n",
       "    </tr>\n",
       "  </thead>\n",
       "  <tbody>\n",
       "    <tr>\n",
       "      <th>0</th>\n",
       "      <td>247.npy</td>\n",
       "    </tr>\n",
       "    <tr>\n",
       "      <th>1</th>\n",
       "      <td>1391.npy</td>\n",
       "    </tr>\n",
       "    <tr>\n",
       "      <th>2</th>\n",
       "      <td>226.npy</td>\n",
       "    </tr>\n",
       "    <tr>\n",
       "      <th>3</th>\n",
       "      <td>1418.npy</td>\n",
       "    </tr>\n",
       "    <tr>\n",
       "      <th>4</th>\n",
       "      <td>313.npy</td>\n",
       "    </tr>\n",
       "  </tbody>\n",
       "</table>\n",
       "</div>"
      ],
      "text/plain": [
       "          0\n",
       "0   247.npy\n",
       "1  1391.npy\n",
       "2   226.npy\n",
       "3  1418.npy\n",
       "4   313.npy"
      ]
     },
     "execution_count": 44,
     "metadata": {},
     "output_type": "execute_result"
    }
   ],
   "source": [
    "print(len(new_client_1), len(new_client_2), len(new_client_3), len(new_client_4))\n",
    "new_client_4.head()"
   ]
  }
 ],
 "metadata": {
  "kernelspec": {
   "display_name": "ssfl",
   "language": "python",
   "name": "python3"
  },
  "language_info": {
   "codemirror_mode": {
    "name": "ipython",
    "version": 3
   },
   "file_extension": ".py",
   "mimetype": "text/x-python",
   "name": "python",
   "nbconvert_exporter": "python",
   "pygments_lexer": "ipython3",
   "version": "3.10.13"
  }
 },
 "nbformat": 4,
 "nbformat_minor": 2
}
