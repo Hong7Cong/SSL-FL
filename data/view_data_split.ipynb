{
 "cells": [
  {
   "cell_type": "code",
   "execution_count": null,
   "id": "3474ecd2-d81a-4f06-9133-a5f4921e15fd",
   "metadata": {},
   "outputs": [],
   "source": [
    "import pandas as pd\n",
    "import numpy as np\n",
    "import seaborn as sns\n",
    "import matplotlib.pyplot as plt\n",
    "from data_split import view_split"
   ]
  },
  {
   "attachments": {},
   "cell_type": "markdown",
   "id": "4028e839",
   "metadata": {},
   "source": [
    "### Visualize Retina data splits"
   ]
  },
  {
   "cell_type": "code",
   "execution_count": null,
   "id": "d2a59c80-348c-4c8b-852f-9f429fe59805",
   "metadata": {},
   "outputs": [],
   "source": [
    "data_path='./Retina'\n",
    "out = view_split(data_path, save_plot=False)\n",
    "df = pd.DataFrame(out)\n",
    "\n",
    "sns.set(font_scale = 1.8, style=\"white\")\n",
    "f, axes = plt.subplots(1, 3, figsize=(18, 5))\n",
    "\n",
    "for i, split_id in enumerate(['split_1', 'split_2', 'split_3']):\n",
    "    df_split = df.loc[:,split_id].apply(pd.Series)\n",
    "    df_split = df_split.reindex(sorted(df_split.columns), axis=1)\n",
    "    df_split = df_split.sort_index(axis=0)\n",
    "    df_split['Client ID'] = df_split.index\n",
    "    \n",
    "    df_split = df_split.rename(columns={0.0: \"normal\", 1.0: \"diseased\"})\n",
    "    df_split.plot(x='Client ID', kind='barh', rot=0, stacked=True, \n",
    "                  cmap='tab20c',\n",
    "                  title=split_id, ax=axes[i], legend=False)\n",
    "\n",
    "    if i in [1,2]:\n",
    "        axes[i].set_yticks([])\n",
    "        axes[i].set(ylabel=None)\n",
    "    \n",
    "    axes[i].set_title(split_id)\n",
    "\n",
    "axes[2].legend()\n",
    "f.tight_layout()\n",
    "\n",
    "plt.show()"
   ]
  },
  {
   "attachments": {},
   "cell_type": "markdown",
   "id": "1bf64645",
   "metadata": {},
   "source": [
    "### Visualize COVID-FL data splits"
   ]
  },
  {
   "cell_type": "code",
   "execution_count": null,
   "id": "324cbc7d-5e2e-49f2-a814-39c794b306a8",
   "metadata": {},
   "outputs": [],
   "source": [
    "data_path='./COVID-FL'\n",
    "out = view_split(data_path, n_clients=12, save_plot=False)\n",
    "df = pd.DataFrame(out)\n",
    "\n",
    "fig = plt.figure(figsize=(15,10))\n",
    "sns.set(font_scale = 1.2, style=\"white\")\n",
    "\n",
    "split_id = 'split_real'\n",
    "df_split = df.loc[:,split_id].apply(pd.Series)\n",
    "df_split = df_split.reindex(sorted(df_split.columns), axis=1)\n",
    "df_split = df_split.sort_index(axis=0)\n",
    "df_split['Client ID'] = sorted(df_split.index)\n",
    "\n",
    "df_split = df_split.rename(columns={0.0: \"normal\", 1.0: \"pneumonia\", 2.0: \"COVID-19\"})\n",
    "df_split.plot(x='Client ID', kind='barh', rot=0, stacked=True, cmap='tab20c', title=split_id)\n",
    "\n",
    "plt.legend()\n",
    "f.tight_layout()\n",
    "\n",
    "plt.show()"
   ]
  },
  {
   "cell_type": "code",
   "execution_count": null,
   "id": "0529fd25",
   "metadata": {},
   "outputs": [],
   "source": [
    "data_path='./Derm'\n",
    "out = view_split(data_path, save_plot=False)\n",
    "df = pd.DataFrame(out)\n",
    "\n",
    "sns.set(font_scale = 1.8, style=\"white\")\n",
    "f, axes = plt.subplots(1, 3, figsize=(18, 5))\n",
    "\n",
    "for i, split_id in enumerate(['split_1', 'split_2', 'split_3']):\n",
    "    df_split = df.loc[:,split_id].apply(pd.Series)\n",
    "    df_split = df_split.reindex(sorted(df_split.columns), axis=1)\n",
    "    df_split = df_split.sort_index(axis=0)\n",
    "    df_split['Client ID'] = df_split.index\n",
    "    \n",
    "    df_split = df_split.rename(columns={0.0: \"benign\", 1.0: \"malignant\"})\n",
    "    df_split.plot(x='Client ID', kind='barh', rot=0, stacked=True, \n",
    "                  cmap='tab20c',  title=split_id, ax=axes[i], legend=False)\n",
    "\n",
    "    if i in [1,2]:\n",
    "        axes[i].set_yticks([])\n",
    "        axes[i].set(ylabel=None)\n",
    "    \n",
    "    axes[i].set_title(split_id)\n",
    "\n",
    "axes[2].legend()\n",
    "f.tight_layout()\n",
    "\n",
    "plt.show()"
   ]
  },
  {
   "cell_type": "code",
   "execution_count": null,
   "id": "0c3cbbe5",
   "metadata": {},
   "outputs": [],
   "source": []
  }
 ],
 "metadata": {
  "kernelspec": {
   "display_name": "Python 3.8.12 ('beit': conda)",
   "language": "python",
   "name": "python3"
  },
  "language_info": {
   "codemirror_mode": {
    "name": "ipython",
    "version": 3
   },
   "file_extension": ".py",
   "mimetype": "text/x-python",
   "name": "python",
   "nbconvert_exporter": "python",
   "pygments_lexer": "ipython3",
   "version": "3.8.12"
  },
  "vscode": {
   "interpreter": {
    "hash": "95d1c936d10f91198247eed029d7103c66e5f4e68c2eeaeb4d669ae011dd3008"
   }
  }
 },
 "nbformat": 4,
 "nbformat_minor": 5
}
