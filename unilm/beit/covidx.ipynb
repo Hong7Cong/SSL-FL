{
 "cells": [
  {
   "cell_type": "code",
   "execution_count": null,
   "id": "d0fe6d4b-b944-4434-9571-aadf8aa12f62",
   "metadata": {},
   "outputs": [],
   "source": [
    "import os\n",
    "import sys\n",
    "sys.path.append('..')\n",
    "import torch\n",
    "import numpy as np\n",
    "import pandas as pd\n",
    "from tqdm import tqdm\n",
    "import matplotlib.pyplot as plt\n",
    "from FedAvg_utils.data_utils import DatasetFLBEiTPretrain, create_dataset_and_evalmetrix, DatasetFLBEiT"
   ]
  },
  {
   "cell_type": "markdown",
   "id": "793a24bc-df7d-479b-adec-064e0834696e",
   "metadata": {},
   "source": [
    "### COVIDx preprocessing"
   ]
  },
  {
   "cell_type": "code",
   "execution_count": null,
   "id": "2cfc2956-bbe7-4cf7-92ca-156ea0a1f63a",
   "metadata": {},
   "outputs": [],
   "source": [
    "train_df = pd.read_csv(data_path+'train_a.txt', sep=\" \", header=None)\n",
    "train_df.columns=['patient_id', 'filename', 'class', 'data_source']\n",
    "train_df=train_df.drop(['patient_id', 'data_source'], axis=1)\n",
    "\n",
    "train_df.loc[train_df['class']=='positive', 'class'] = 'COVID-19' \n",
    "train_df.loc[train_df['class']=='COVID-19', 'class'] = 2\n",
    "train_df.loc[train_df['class']=='normal', 'class'] = 0 \n",
    "train_df.loc[train_df['class']=='pneumonia', 'class'] = 1 "
   ]
  },
  {
   "cell_type": "code",
   "execution_count": null,
   "id": "b4171e71-cc20-47a2-bdf3-77b5554ed0bb",
   "metadata": {},
   "outputs": [],
   "source": [
    "test_df = pd.read_csv(data_path+'test_a.txt', sep=\" \", header=None)\n",
    "test_df.columns=['patient_id', 'filename', 'class', 'data_source']\n",
    "test_df=test_df.drop(['patient_id', 'data_source'], axis=1)\n",
    "test_df.loc[train_df['class']=='positive', 'class'] = 'COVID-19' "
   ]
  },
  {
   "cell_type": "code",
   "execution_count": null,
   "id": "4f8cc9d2-1c76-405f-9277-fda4fccb148c",
   "metadata": {},
   "outputs": [],
   "source": [
    "train_df['class'].value_counts()"
   ]
  },
  {
   "cell_type": "code",
   "execution_count": null,
   "id": "1c21790c-33d9-409a-8dd2-559eef70b79d",
   "metadata": {},
   "outputs": [],
   "source": [
    "test_df['class'].value_counts()"
   ]
  },
  {
   "cell_type": "markdown",
   "id": "7f6208e3-fff7-4152-8b25-3e6248c9a348",
   "metadata": {},
   "source": [
    "### Retina move test and val to separate file"
   ]
  },
  {
   "cell_type": "code",
   "execution_count": null,
   "id": "eeda83ce-e2af-4b9e-b1cb-0c220a367a89",
   "metadata": {},
   "outputs": [],
   "source": [
    "train_df = pd.read_csv('/raid/yan/Retina/central/train.csv', sep=\" \", header=None)\n",
    "val_df = pd.read_csv('/raid/yan/Retina/val.csv', sep=\" \", header=None)"
   ]
  },
  {
   "cell_type": "code",
   "execution_count": null,
   "id": "f22854e8-ca64-4ece-bc57-571174ffcda9",
   "metadata": {},
   "outputs": [],
   "source": [
    "train_list = train_df.loc[:,0].to_list() + val_df.loc[:,0].to_list()"
   ]
  },
  {
   "cell_type": "code",
   "execution_count": null,
   "id": "320cf15e-9d7f-4ee0-b081-3c81644c6ea6",
   "metadata": {},
   "outputs": [],
   "source": [
    "import shutil\n",
    "\n",
    "for file in os.listdir(path):\n",
    "    if file in val_df.loc[:,0].to_list():\n",
    "        shutil.move(path+'/'+file, '/raid/yan/Retina/val/'+file)"
   ]
  },
  {
   "cell_type": "code",
   "execution_count": null,
   "id": "bf7299c6-2f4f-4dc8-b0af-6de189bab66e",
   "metadata": {},
   "outputs": [],
   "source": [
    "# import csv\n",
    "# with open('/raid/yan/Retina/train.csv', 'w') as f:\n",
    "#     writer = csv.writer(f, delimiter='\\n')\n",
    "#     writer.writerow(train_list)"
   ]
  },
  {
   "cell_type": "code",
   "execution_count": null,
   "id": "c0026061-aec4-40fe-9c49-bf588bee5691",
   "metadata": {},
   "outputs": [],
   "source": [
    "train_label = [label for fname, label in labels.items() if fname in img_paths]"
   ]
  },
  {
   "cell_type": "code",
   "execution_count": null,
   "id": "106a29ea-84ec-4aa7-aaa4-62eb91a264dd",
   "metadata": {},
   "outputs": [],
   "source": [
    "# https://kozodoi.me/python/deep%20learning/pytorch/tutorial/2021/03/08/image-mean-std.html"
   ]
  },
  {
   "cell_type": "code",
   "execution_count": null,
   "id": "8c12fdac-c532-4015-826e-c22e7b92ab93",
   "metadata": {},
   "outputs": [],
   "source": [
    "# COVID mean and std\n",
    "class Args:\n",
    "    # data_set = 'COVIDx'\n",
    "    data_set = 'Retina'\n",
    "    input_size = 224\n",
    "    window_size = (224 // 16, 224 //16)\n",
    "    second_input_size = 112\n",
    "    train_interpolation='bicubic'\n",
    "    second_interpolation='lanczos'\n",
    "    num_mask_patches=75\n",
    "    max_mask_patches_per_block=None\n",
    "    min_mask_patches_per_block=16\n",
    "    split_type='central' \n",
    "    # single_client='train.csv' \n",
    "    single_client='train.csv' \n",
    "    discrete_vae_type = \"dall-e\"\n",
    "    data_path = '/data/yan/SSL-FL/Retina/'\n",
    "    # data_path = '/data/yan/SSL-FL/COVIDx/'\n",
    "\n",
    "args=Args()"
   ]
  },
  {
   "cell_type": "code",
   "execution_count": null,
   "id": "966721e3-7c05-4906-bcee-2ecb6b265e4e",
   "metadata": {},
   "outputs": [],
   "source": [
    "nimages = 0\n",
    "mean = 0.0\n",
    "var = 0.0\n",
    "\n",
    "dataset_train = DatasetFLBEiTPretrain(args, no_transform=True)\n",
    "# dataset_train = DatasetFLBEiT(args, phase='train')\n",
    "data_loader_train = torch.utils.data.DataLoader(\n",
    "    dataset_train, \n",
    "    batch_size=32,\n",
    "    num_workers=1,\n",
    "    pin_memory=True,\n",
    "    shuffle=False, \n",
    "    # drop_last=True,\n",
    ")\n",
    "\n",
    "def denoramlize(img):\n",
    "    img = img.permute(1,2,0)\n",
    "    \n",
    "    mean = torch.FloatTensor((0.5518, 0.5518, 0.5518))\n",
    "    std = torch.FloatTensor((0.2051, 0.2051, 0.2051))\n",
    "    img = img*std + mean\n",
    "    img = np.clip(img,0,1)\n",
    "    return img\n",
    "\n",
    "for batch_idx, batch_target in enumerate(data_loader_train):\n",
    "    # batch_target = np.array(batch_target)\n",
    "    # print(batch_target.shape)\n",
    "    # inputs = batch_target[0][0]\n",
    "    # print(inputs)\n",
    "    inputs = batch_target[0]\n",
    "    # print(inputs)\n",
    "    # print(np.array(batch_target).shape)\n",
    "    fig = plt.figure(figsize = (14, 7))\n",
    "    for i in range(8):\n",
    "        ax = fig.add_subplot(2, 4, i + 1, xticks = [], yticks = [])     \n",
    "        plt.imshow(inputs[i].permute(1,2,0))\n",
    "        plt.title(batch_target[1][i])\n",
    "    break"
   ]
  },
  {
   "cell_type": "code",
   "execution_count": null,
   "id": "80362161-fc7b-476a-aa4a-a7e5db1c4bf3",
   "metadata": {},
   "outputs": [],
   "source": [
    "def get_mean_and_std(dataloader):\n",
    "    channels_sum, channels_squared_sum, num_batches = 0, 0, 0\n",
    "    for data, _ in dataloader:\n",
    "        # Mean over batch, height and width, but not over the channels\n",
    "        channels_sum += torch.mean(data, dim=[0,2,3])\n",
    "        channels_squared_sum += torch.mean(data**2, dim=[0,2,3])\n",
    "        num_batches += 1\n",
    "    \n",
    "    mean = channels_sum / num_batches\n",
    "    \n",
    "    # std = sqrt(E[X^2] - (E[X])^2)\n",
    "    std = (channels_squared_sum / num_batches - mean ** 2) ** 0.5\n",
    "\n",
    "    return mean, std"
   ]
  },
  {
   "cell_type": "code",
   "execution_count": null,
   "id": "9b1a88d1-1b3c-4dd0-beca-19220c60bb3e",
   "metadata": {},
   "outputs": [],
   "source": [
    "mean, std = get_mean_and_std(data_loader_train)"
   ]
  },
  {
   "cell_type": "code",
   "execution_count": null,
   "id": "1a85a535-d85a-4935-b4e1-50f577df3db4",
   "metadata": {},
   "outputs": [],
   "source": [
    "#covidx mean 0.5518, 0.5518, 0.5518\n",
    "#covidx std 0.2051, 0.2051, 0.2051"
   ]
  },
  {
   "cell_type": "code",
   "execution_count": null,
   "id": "41108d1b-e841-481a-8359-1eced07dd44b",
   "metadata": {},
   "outputs": [],
   "source": [
    "#retina mean 0.5007, 0.5010, 0.5019\n",
    "# retina std 0.0342, 0.0535, 0.0484"
   ]
  },
  {
   "cell_type": "code",
   "execution_count": null,
   "id": "617d7240-8317-4cf2-838c-e92ccb0a3f03",
   "metadata": {},
   "outputs": [],
   "source": [
    "# pixel count\n",
    "count = len(dataset_train) * args.input_size * args.input_size\n",
    "\n",
    "# mean and std\n",
    "total_mean = psum / count\n",
    "total_var  = (psum_sq / count) - (total_mean ** 2)\n",
    "total_std  = torch.sqrt(total_var)\n",
    "\n",
    "# output\n",
    "print('mean: '  + str(total_mean))\n",
    "print('std:  '  + str(total_std))"
   ]
  },
  {
   "cell_type": "code",
   "execution_count": null,
   "id": "1122fe34-7dcd-423a-9375-e3705ca5bb49",
   "metadata": {},
   "outputs": [],
   "source": [
    "from PIL import Image\n",
    "img = np.array(Image.open('/raid/yan/COVIDx/train/sub-S03191_ses-E06595_run-1_bp-chest_vp-pa_dx-corrected.png'))\n",
    "# img = Image.open('/raid/yan/COVIDx/train/wong-0000.jpg')"
   ]
  },
  {
   "cell_type": "code",
   "execution_count": null,
   "id": "447a50bf-c959-4672-aa70-6e16090821dd",
   "metadata": {},
   "outputs": [],
   "source": [
    "np.stack((img,)*3, axis=-1).shape"
   ]
  },
  {
   "cell_type": "code",
   "execution_count": null,
   "id": "6fe89e9c-9608-47ae-983b-fd3832c8cc02",
   "metadata": {},
   "outputs": [],
   "source": [
    "# if img.ndim < 3:\n",
    "#     img = np.stack((img,)*3, axis=-1)\n",
    "if img.shape[2] >= 3:\n",
    "    img = img[:,:,:3]\n",
    "    plot = True\n",
    "    plt.figure()\n",
    "    plt.imshow(img)\n",
    "    plt.title('new')\n",
    "    plt.show()"
   ]
  },
  {
   "cell_type": "code",
   "execution_count": null,
   "id": "80fd91f5-c8b0-458b-902b-f7637eae48c7",
   "metadata": {},
   "outputs": [],
   "source": [
    "# sample = np.transpose(img,(2,0,1))\n",
    "sample = Image.fromarray(np.uint8(img))"
   ]
  },
  {
   "cell_type": "code",
   "execution_count": null,
   "id": "e9dec605-ee9c-449f-9782-3dd9e79e4d33",
   "metadata": {},
   "outputs": [],
   "source": []
  }
 ],
 "metadata": {
  "kernelspec": {
   "display_name": "Python 3 (ipykernel)",
   "language": "python",
   "name": "python3"
  },
  "language_info": {
   "codemirror_mode": {
    "name": "ipython",
    "version": 3
   },
   "file_extension": ".py",
   "mimetype": "text/x-python",
   "name": "python",
   "nbconvert_exporter": "python",
   "pygments_lexer": "ipython3",
   "version": "3.8.12"
  }
 },
 "nbformat": 4,
 "nbformat_minor": 5
}
