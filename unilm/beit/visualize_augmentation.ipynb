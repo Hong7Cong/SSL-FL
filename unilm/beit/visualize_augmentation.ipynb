{
 "cells": [
  {
   "cell_type": "code",
   "execution_count": null,
   "id": "dfbaad88-8250-4065-8851-3d881888e992",
   "metadata": {},
   "outputs": [],
   "source": [
    "from datasets import DataAugmentationForBEiT, build_transform\n",
    "import torch\n",
    "import numpy as np\n",
    "import os\n",
    "from PIL import Image\n",
    "import matplotlib.pyplot as plt\n",
    "from skimage.transform import resize"
   ]
  },
  {
   "cell_type": "code",
   "execution_count": null,
   "id": "c68cd593-2866-4a46-87dd-af1e84d98b5c",
   "metadata": {},
   "outputs": [],
   "source": [
    "class Args:\n",
    "    # data_set = 'COVIDx'\n",
    "    data_set = 'Retina'\n",
    "    input_size = 224\n",
    "    window_size = (224 // 16, 224 //16)\n",
    "    second_input_size = 112\n",
    "    train_interpolation='bicubic'\n",
    "    second_interpolation='lanczos'\n",
    "    num_mask_patches=75\n",
    "    max_mask_patches_per_block=None\n",
    "    min_mask_patches_per_block=16\n",
    "    split_type='central' \n",
    "    # single_client='train.csv' \n",
    "    single_client='train.csv' \n",
    "    discrete_vae_type = \"dall-e\"\n",
    "    data_path = '/data/yan/SSL-FL/Retina/'\n",
    "    # data_path = '/data/yan/SSL-FL/COVIDx/'\n",
    "\n",
    "args=Args()"
   ]
  },
  {
   "cell_type": "code",
   "execution_count": null,
   "id": "a1d1f3fa-1188-44bf-866a-79ee3c735f4a",
   "metadata": {},
   "outputs": [],
   "source": [
    "# dataset_train = DatasetFLBEiTPretrain(args)\n",
    "# sampler_train = torch.utils.data.RandomSampler(dataset_train)\n",
    "\n",
    "# data_loader_train = torch.utils.data.DataLoader(\n",
    "#     dataset_train, sampler=sampler_train,\n",
    "#     batch_size=1,\n",
    "#     num_workers=1,\n",
    "#     pin_memory=True,\n",
    "#     drop_last=True,\n",
    "# )\n",
    "if args.data_set == 'CIFAR10':\n",
    "\n",
    "    data_all = np.load(os.path.join('./data/', args.data_set + '.npy'), allow_pickle = True)\n",
    "    data_all = data_all.item()\n",
    "\n",
    "    data_all = data_all[args.split_type]\n",
    "    args.dis_cvs_files =[key for key in data_all['data'].keys() if 'train' in key]\n",
    "    args.clients_with_len = {name: data_all['data'][name].shape[0] for name in args.dis_cvs_files}\n",
    "        "
   ]
  },
  {
   "cell_type": "code",
   "execution_count": null,
   "id": "ba762841-5d7a-40c5-8e7a-402407119bfb",
   "metadata": {},
   "outputs": [],
   "source": [
    "index = 8\n",
    "\n",
    "if args.data_set == 'CIFAR10':\n",
    "    data_all = np.load(os.path.join('./data/', args.data_set + '.npy'), allow_pickle = True)\n",
    "    data_all = data_all.item()\n",
    "    data_all = data_all[args.split_type]            \n",
    "    data = data_all['data'][args.single_client]\n",
    "    labels = data_all['target'][args.single_client]\n",
    "\n",
    "    img = data[index]\n",
    "    target = labels[index]\n",
    "    \n",
    "if args.data_set == 'Retina' or args.data_set == 'COVIDx':\n",
    "    cur_clint_path = os.path.join(args.data_path, args.split_type, args.single_client)\n",
    "    img_paths = list({line.strip().split(',')[0] for line in open(cur_clint_path)})\n",
    "    labels = {line.strip().split(',')[0]: float(line.strip().split(',')[1]) for line in\n",
    "                  open(os.path.join(args.data_path, 'labels.csv'))}\n",
    "    \n",
    "    index = index % len(img_paths)\n",
    "    print(len(img_paths))\n",
    "    path = os.path.join(args.data_path, 'train', img_paths[index])\n",
    "    \n",
    "    name = img_paths[index]\n",
    "    target = labels[name]\n",
    "    \n",
    "    # path = '/raid/yan/COVIDx/train/sub-S03191_ses-E06595_run-1_bp-chest_vp-pa_dx-corrected.png'\n",
    "    # target = labels['sub-S03191_ses-E06595_run-1_bp-chest_vp-pa_dx-corrected.png']\n",
    "    \n",
    "    target = np.asarray(target).astype('int64')\n",
    "    \n",
    "    if args.data_set == 'Retina':\n",
    "        img = np.load(path)\n",
    "        img = resize(img, (320, 320))\n",
    "        \n",
    "    else:\n",
    "        img = np.array(Image.open(path))\n",
    "        plt.imshow(img)\n",
    "        # img = np.transpose(img,(2,0,1))\n",
    "        img = process_covidx_image(img, size=480, top_percent=0.15)\n",
    "    \n",
    "    print(np.max(img), np.min(img))\n",
    "    if img.ndim < 3:\n",
    "        img = np.stack((img,)*3, axis=-1)\n",
    "    elif img.shape[2] >= 3:\n",
    "        img = img[:,:,:3]\n",
    "    \n",
    "img = Image.fromarray(np.uint8(img))"
   ]
  },
  {
   "cell_type": "code",
   "execution_count": null,
   "id": "af7b3394-29eb-4ebf-af5c-47873e654147",
   "metadata": {},
   "outputs": [],
   "source": [
    "np.max(img)"
   ]
  },
  {
   "cell_type": "code",
   "execution_count": null,
   "id": "fc7e783a-1547-4e7a-942d-ec64690bf4a9",
   "metadata": {},
   "outputs": [],
   "source": [
    "transform = DataAugmentationForBEiT(args, no_transform=True)\n",
    "# transform = build_transform(True, args)\n",
    "sample = transform(img)\n",
    "# mask = sample[2]\n",
    "\n",
    "# plt.imshow(sample.permute(1,2,0))\n",
    "fig, axes = plt.subplots(1, 2)\n",
    "for i in range(2): \n",
    "    axes[i].imshow(sample[i].permute(1,2,0))\n",
    "\n",
    "plt.show()"
   ]
  },
  {
   "cell_type": "code",
   "execution_count": null,
   "id": "7dfe1268-4ace-48ca-9362-55b1ebe86524",
   "metadata": {},
   "outputs": [],
   "source": [
    "sample.shape"
   ]
  },
  {
   "cell_type": "code",
   "execution_count": null,
   "id": "0457c560-dea1-480c-bf79-15411fe66d2e",
   "metadata": {},
   "outputs": [],
   "source": [
    "torch.min(sample[0])"
   ]
  },
  {
   "cell_type": "code",
   "execution_count": null,
   "id": "75d74f89-cf62-4b83-9999-2975b2822548",
   "metadata": {},
   "outputs": [],
   "source": [
    "sample.shape"
   ]
  },
  {
   "cell_type": "code",
   "execution_count": null,
   "id": "6e0b38ba-00c5-4d49-9b65-1a760407a625",
   "metadata": {},
   "outputs": [],
   "source": []
  }
 ],
 "metadata": {
  "kernelspec": {
   "display_name": "Python 3 (ipykernel)",
   "language": "python",
   "name": "python3"
  },
  "language_info": {
   "codemirror_mode": {
    "name": "ipython",
    "version": 3
   },
   "file_extension": ".py",
   "mimetype": "text/x-python",
   "name": "python",
   "nbconvert_exporter": "python",
   "pygments_lexer": "ipython3",
   "version": "3.8.12"
  }
 },
 "nbformat": 4,
 "nbformat_minor": 5
}
