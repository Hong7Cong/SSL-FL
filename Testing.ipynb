{
 "cells": [
  {
   "cell_type": "code",
   "execution_count": 1,
   "metadata": {},
   "outputs": [
    {
     "name": "stderr",
     "output_type": "stream",
     "text": [
      "/home/hongn/miniconda3/envs/xai/lib/python3.10/site-packages/tqdm/auto.py:21: TqdmWarning: IProgress not found. Please update jupyter and ipywidgets. See https://ipywidgets.readthedocs.io/en/stable/user_install.html\n",
      "  from .autonotebook import tqdm as notebook_tqdm\n"
     ]
    }
   ],
   "source": [
    "import datetime\n",
    "import json\n",
    "import numpy as np\n",
    "import time\n",
    "from pathlib import Path\n",
    "import pandas as pd\n",
    "import torch\n",
    "import torch.backends.cudnn as cudnn\n",
    "# from torch.utils.tensorboard import SummaryWriter\n",
    "from datetime import date\n",
    "import timm\n",
    "# assert timm.__version__ == \"0.3.2\" # version check\n",
    "from copy import deepcopy\n",
    "\n",
    "import os\n",
    "import sys\n",
    "sys.path.insert(1, '/mnt/c/Users/PCM/Documents/GitHub/SSL-FL/code')\n",
    "sys.path.insert(1, '/mnt/c/Users/PCM/Documents/GitHub/SSL-FL/segmenter')\n",
    "import fed_mae.models_vit as models_vit\n",
    "from fed_mae.engine_for_finetuning import train_one_epoch\n",
    "import util.misc as misc"
   ]
  },
  {
   "cell_type": "code",
   "execution_count": 2,
   "metadata": {},
   "outputs": [
    {
     "name": "stdout",
     "output_type": "stream",
     "text": [
      "cuda:0 ['0', '1', '2', '3', '4']\n"
     ]
    }
   ],
   "source": [
    "from torchvision import datasets\n",
    "from torchvision import  transforms\n",
    "mean = [0.6821, 0.4575, 0.2626]\n",
    "std  = [0.1324, 0.1306, 0.1022]\n",
    "\n",
    "data_transforms = {\n",
    "    'train': transforms.Compose([\n",
    "        # transforms.RandomResizedCrop(224),\n",
    "        # transforms.RandomHorizontalFlip(),\n",
    "        transforms.Resize(256),\n",
    "        transforms.CenterCrop(224),\n",
    "        transforms.ToTensor(),\n",
    "        transforms.Normalize(mean, std)\n",
    "    ]),\n",
    "    'val': transforms.Compose([\n",
    "        transforms.Resize(256),\n",
    "        transforms.CenterCrop(224),\n",
    "        transforms.ToTensor(),\n",
    "        transforms.Normalize(mean, std)\n",
    "    ]),\n",
    "    'test': transforms.Compose([\n",
    "        transforms.Resize(256),\n",
    "        transforms.CenterCrop(224),\n",
    "        transforms.ToTensor(),\n",
    "        transforms.Normalize(mean, std)\n",
    "    ]),\n",
    "}\n",
    "\n",
    "data_dir = '/mnt/c/Users/PCM/Dropbox/ee638/Diabetic'\n",
    "image_datasets = {x: datasets.ImageFolder(os.path.join(data_dir, x), data_transforms[x]) for x in ['train', 'val', 'test']}\n",
    "\n",
    "dataloaders = {x: torch.utils.data.DataLoader(image_datasets[x], batch_size=16, shuffle=True, num_workers=4)\n",
    "              for x in ['train', 'val', 'test']}\n",
    "\n",
    "dataset_sizes = {x: len(image_datasets[x]) for x in ['train', 'val',  'test']}\n",
    "class_names = image_datasets['train'].classes\n",
    "\n",
    "device = torch.device(\"cuda:0\" if torch.cuda.is_available() else \"cpu\")\n",
    "print(device, class_names)"
   ]
  },
  {
   "cell_type": "code",
   "execution_count": 27,
   "metadata": {},
   "outputs": [
    {
     "data": {
      "text/plain": [
       "<All keys matched successfully>"
      ]
     },
     "execution_count": 27,
     "metadata": {},
     "output_type": "execute_result"
    }
   ],
   "source": [
    "segm = models_vit.__dict__['vit_base_patch16'](\n",
    "        num_classes=5,\n",
    "        drop_path_rate=0.1,\n",
    "        global_pool=True,\n",
    "        )\n",
    "state_dict = torch.load('/mnt/c/Users/PCM/Documents/GitHub/SSL-FL/pretrained/bestacc-severity-cls-scratch-sslfl-2024-04-25.pt')\n",
    "segm.load_state_dict(state_dict, strict=True)\n"
   ]
  },
  {
   "cell_type": "code",
   "execution_count": 28,
   "metadata": {},
   "outputs": [],
   "source": [
    "valaccmax = 0\n",
    "segm = segm.to(device)\n",
    "training_acc = 0\n",
    "val_acc = 0\n",
    "training_loss_test = 0.0\n",
    "\n",
    "predlist = []\n",
    "labelist = []\n",
    "problist = []\n",
    "for inputs, labels in dataloaders['test']:\n",
    "    segm.eval()\n",
    "    inputs = inputs.to(device)\n",
    "    labels = labels.to(device)\n",
    "\n",
    "    with torch.no_grad():\n",
    "        outputs = segm(inputs)\n",
    "        _, preds = torch.max(outputs, 1)\n",
    "        # loss = loss_fn(outputs, labels)\n",
    "        problist.append(outputs[:,1].detach().cpu().numpy())\n",
    "        labelist.append(labels.detach().cpu().numpy()*1)\n",
    "        predlist.append(preds.detach().cpu().numpy())\n",
    "\n",
    "    labelist = np.concatenate(labelist).ravel()\n",
    "    problist = np.concatenate(problist).ravel()\n",
    "    predlist = np.concatenate(predlist).ravel()\n",
    "    val_acc += torch.sum(preds == labels.data)\n",
    "        val_f1 = f1_score(labelist, predlist, average='macro')\n",
    "if(e > 5 and val_acc >= valaccmax):\n",
    "    valaccmax = val_acc\n",
    "    torch.save(clf_model.state_dict(), f'./pretrained/best-mutilclass-siamese50-{pretrain_mode}.pt')\n",
    "    torch.save(clf_model.state_dict(), f'./pretrained/{pretrain_mode}/bestacc-{pretrain_mode}-{epo}.pt')\n",
    "if(e > 5 and sedis <= valaccmin):\n",
    "    torch.save(clf_model.state_dict(), f'./pretrained/{pretrain_mode}/bestmaee-{pretrain_mode}-{epo}.pt')\n",
    "if(e > 5 and val_f1 >= valf1max):\n",
    "    torch.save(clf_model.state_dict(), f'./pretrained/{pretrain_mode}/bestf1-{pretrain_mode}-{epo}.pt')\n",
    "scheduler.step()"
   ]
  },
  {
   "cell_type": "code",
   "execution_count": 31,
   "metadata": {},
   "outputs": [
    {
     "data": {
      "text/plain": [
       "tensor(0.7347, device='cuda:0')"
      ]
     },
     "execution_count": 31,
     "metadata": {},
     "output_type": "execute_result"
    },
    {
     "ename": "",
     "evalue": "",
     "output_type": "error",
     "traceback": [
      "\u001b[1;31mThe Kernel crashed while executing code in the current cell or a previous cell. \n",
      "\u001b[1;31mPlease review the code in the cell(s) to identify a possible cause of the failure. \n",
      "\u001b[1;31mClick <a href='https://aka.ms/vscodeJupyterKernelCrash'>here</a> for more info. \n",
      "\u001b[1;31mView Jupyter <a href='command:jupyter.viewOutput'>log</a> for further details."
     ]
    }
   ],
   "source": [
    "val_acc / dataset_sizes['test']"
   ]
  }
 ],
 "metadata": {
  "kernelspec": {
   "display_name": "xai",
   "language": "python",
   "name": "python3"
  },
  "language_info": {
   "codemirror_mode": {
    "name": "ipython",
    "version": 3
   },
   "file_extension": ".py",
   "mimetype": "text/x-python",
   "name": "python",
   "nbconvert_exporter": "python",
   "pygments_lexer": "ipython3",
   "version": "3.10.13"
  }
 },
 "nbformat": 4,
 "nbformat_minor": 2
}
