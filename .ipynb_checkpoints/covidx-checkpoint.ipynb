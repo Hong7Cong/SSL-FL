{
 "cells": [
  {
   "cell_type": "code",
   "execution_count": 1,
   "id": "d0fe6d4b-b944-4434-9571-aadf8aa12f62",
   "metadata": {},
   "outputs": [
    {
     "ename": "ImportError",
     "evalue": "cannot import name 'collate_fn' from 'unilm.beit.FedAvg_utils.data_utils' (/home/yan/SSL_FL/unilm/beit/FedAvg_utils/data_utils.py)",
     "output_type": "error",
     "traceback": [
      "\u001b[0;31m---------------------------------------------------------------------------\u001b[0m",
      "\u001b[0;31mImportError\u001b[0m                               Traceback (most recent call last)",
      "\u001b[0;32m/tmp/ipykernel_22411/3703255162.py\u001b[0m in \u001b[0;36m<module>\u001b[0;34m\u001b[0m\n\u001b[1;32m      5\u001b[0m \u001b[0;32mimport\u001b[0m \u001b[0mpandas\u001b[0m \u001b[0;32mas\u001b[0m \u001b[0mpd\u001b[0m\u001b[0;34m\u001b[0m\u001b[0;34m\u001b[0m\u001b[0m\n\u001b[1;32m      6\u001b[0m \u001b[0;32mimport\u001b[0m \u001b[0mmatplotlib\u001b[0m\u001b[0;34m.\u001b[0m\u001b[0mpyplot\u001b[0m \u001b[0;32mas\u001b[0m \u001b[0mplt\u001b[0m\u001b[0;34m\u001b[0m\u001b[0;34m\u001b[0m\u001b[0m\n\u001b[0;32m----> 7\u001b[0;31m \u001b[0;32mfrom\u001b[0m \u001b[0munilm\u001b[0m\u001b[0;34m.\u001b[0m\u001b[0mbeit\u001b[0m\u001b[0;34m.\u001b[0m\u001b[0mFedAvg_utils\u001b[0m\u001b[0;34m.\u001b[0m\u001b[0mdata_utils\u001b[0m \u001b[0;32mimport\u001b[0m \u001b[0mDatasetFLBEiTPretrain\u001b[0m\u001b[0;34m,\u001b[0m \u001b[0mcreate_dataset_and_evalmetrix\u001b[0m\u001b[0;34m,\u001b[0m \u001b[0mcollate_fn\u001b[0m\u001b[0;34m\u001b[0m\u001b[0;34m\u001b[0m\u001b[0m\n\u001b[0m",
      "\u001b[0;31mImportError\u001b[0m: cannot import name 'collate_fn' from 'unilm.beit.FedAvg_utils.data_utils' (/home/yan/SSL_FL/unilm/beit/FedAvg_utils/data_utils.py)"
     ]
    }
   ],
   "source": [
    "import os\n",
    "import sys\n",
    "import torch\n",
    "import numpy as np\n",
    "import pandas as pd\n",
    "import matplotlib.pyplot as plt\n",
    "from unilm.beit.FedAvg_utils.data_utils import DatasetFLBEiTPretrain, create_dataset_and_evalmetrix, collate_fn"
   ]
  },
  {
   "cell_type": "code",
   "execution_count": null,
   "id": "e26f122d-a117-471b-9de0-7b69b3fbc242",
   "metadata": {},
   "outputs": [],
   "source": [
    "data_path='/raid/yan/Retina/'\n",
    "cur_clint_path = os.path.join('/raid/yan/Retina/', 'train.csv')\n",
    "img_paths = list({line.strip().split(',')[0] for line in open(cur_clint_path)})\n",
    "\n",
    "labels = {line.strip().split(',')[0]: float(line.strip().split(',')[1]) for line in\n",
    "              open(os.path.join('/raid/yan/Retina/labels.csv'))}"
   ]
  },
  {
   "cell_type": "code",
   "execution_count": null,
   "id": "9b932aba-2767-425b-b913-4423c9249d67",
   "metadata": {},
   "outputs": [],
   "source": [
    "train_fname = list(labels.keys())\n",
    "train_label = np.array([label for fname, label in labels.items() if fname in img_paths])"
   ]
  },
  {
   "cell_type": "code",
   "execution_count": null,
   "id": "a1691855-f040-4dfe-af54-29c5e7718e96",
   "metadata": {},
   "outputs": [],
   "source": [
    "split_generator(train_fname, train_label, r'/raid/yan/Retina', 5, 3, [100, 1.0, 0.5])"
   ]
  },
  {
   "cell_type": "code",
   "execution_count": null,
   "id": "2cfc2956-bbe7-4cf7-92ca-156ea0a1f63a",
   "metadata": {},
   "outputs": [],
   "source": [
    "train_df = pd.read_csv(data_path+'train_a.txt', sep=\" \", header=None)\n",
    "train_df.columns=['patient_id', 'filename', 'class', 'data_source']\n",
    "train_df=train_df.drop(['patient_id', 'data_source'], axis=1)\n",
    "\n",
    "train_df.loc[train_df['class']=='positive', 'class'] = 'COVID-19' \n",
    "train_df.loc[train_df['class']=='COVID-19', 'class'] = 2\n",
    "train_df.loc[train_df['class']=='normal', 'class'] = 0 \n",
    "train_df.loc[train_df['class']=='pneumonia', 'class'] = 1 "
   ]
  },
  {
   "cell_type": "code",
   "execution_count": null,
   "id": "d5f21593-da8c-411e-8d93-119a0ee6382d",
   "metadata": {},
   "outputs": [],
   "source": [
    "# train_df.to_csv('/raid/yan/COVIDx/test.csv', index=False)"
   ]
  },
  {
   "cell_type": "code",
   "execution_count": null,
   "id": "80027768-75aa-4710-80bd-61e520889e0c",
   "metadata": {},
   "outputs": [],
   "source": [
    "# train_df.to_csv('/raid/yan/COVIDx/labels.csv', index=False)"
   ]
  },
  {
   "cell_type": "code",
   "execution_count": null,
   "id": "b4171e71-cc20-47a2-bdf3-77b5554ed0bb",
   "metadata": {},
   "outputs": [],
   "source": [
    "test_df = pd.read_csv(data_path+'test_a.txt', sep=\" \", header=None)\n",
    "test_df.columns=['patient_id', 'filename', 'class', 'data_source']\n",
    "test_df=test_df.drop(['patient_id', 'data_source'], axis=1)\n",
    "test_df.loc[train_df['class']=='positive', 'class'] = 'COVID-19' "
   ]
  },
  {
   "cell_type": "code",
   "execution_count": null,
   "id": "4f8cc9d2-1c76-405f-9277-fda4fccb148c",
   "metadata": {},
   "outputs": [],
   "source": [
    "train_df['class'].value_counts()"
   ]
  },
  {
   "cell_type": "code",
   "execution_count": null,
   "id": "1c21790c-33d9-409a-8dd2-559eef70b79d",
   "metadata": {},
   "outputs": [],
   "source": [
    "test_df['class'].value_counts()"
   ]
  },
  {
   "cell_type": "code",
   "execution_count": null,
   "id": "5c45aa41-81b4-4a1b-8f0c-b5831e7e0dd8",
   "metadata": {},
   "outputs": [],
   "source": [
    "from non_iid_split import split_generator"
   ]
  },
  {
   "cell_type": "code",
   "execution_count": null,
   "id": "7476fae9-ddd9-4c4e-818f-fc3a0a6e21de",
   "metadata": {},
   "outputs": [],
   "source": [
    "fname = train_df['filename'].to_list()\n",
    "label = train_df['class'].to_numpy()\n",
    "split_generator(fname, label, r'/raid/yan/COVIDx', 5, 3, [100, 1.0, 0.5])"
   ]
  },
  {
   "cell_type": "code",
   "execution_count": null,
   "id": "6ff56896-c904-45ff-9ffb-58fec3d4b63c",
   "metadata": {},
   "outputs": [],
   "source": [
    "fname"
   ]
  },
  {
   "cell_type": "code",
   "execution_count": null,
   "id": "22840d92-7e77-4376-b809-0c2d71359bf2",
   "metadata": {},
   "outputs": [],
   "source": [
    "1001%1000"
   ]
  },
  {
   "cell_type": "code",
   "execution_count": null,
   "id": "3e69d27e-0fa5-4109-bd08-c0aa647f9541",
   "metadata": {},
   "outputs": [],
   "source": [
    "# Retina move test and val to separate file"
   ]
  },
  {
   "cell_type": "code",
   "execution_count": null,
   "id": "eeda83ce-e2af-4b9e-b1cb-0c220a367a89",
   "metadata": {},
   "outputs": [],
   "source": [
    "train_df = pd.read_csv('/raid/yan/Retina/central/train.csv', sep=\" \", header=None)\n",
    "val_df = pd.read_csv('/raid/yan/Retina/val.csv', sep=\" \", header=None)\n",
    "# path = os.path.join('/raid/yan/Retina/train')"
   ]
  },
  {
   "cell_type": "code",
   "execution_count": null,
   "id": "f22854e8-ca64-4ece-bc57-571174ffcda9",
   "metadata": {},
   "outputs": [],
   "source": [
    "train_list = train_df.loc[:,0].to_list() + val_df.loc[:,0].to_list()"
   ]
  },
  {
   "cell_type": "code",
   "execution_count": null,
   "id": "320cf15e-9d7f-4ee0-b081-3c81644c6ea6",
   "metadata": {},
   "outputs": [],
   "source": [
    "# import shutil\n",
    "\n",
    "# for file in os.listdir(path):\n",
    "#     if file in test_df.loc[:,0].to_list():\n",
    "#         shutil.move(path+'/'+file, '/raid/yan/Retina/val/'+file)"
   ]
  },
  {
   "cell_type": "code",
   "execution_count": null,
   "id": "75852142-d011-44b4-9978-4febdda71265",
   "metadata": {},
   "outputs": [],
   "source": [
    "cur_clint_path = os.path.join('/raid/yan/Retina/split_2/client_2.csv')\n",
    "img_paths = list({line.strip().split(',')[0] for line in open(cur_clint_path)})\n",
    "\n",
    "labels = {line.strip().split(',')[0]: float(line.strip().split(',')[1]) for line in\n",
    "              open(os.path.join('/raid/yan/Retina/labels.csv'))}"
   ]
  },
  {
   "cell_type": "code",
   "execution_count": null,
   "id": "bf7299c6-2f4f-4dc8-b0af-6de189bab66e",
   "metadata": {},
   "outputs": [],
   "source": [
    "# import csv\n",
    "# with open('/raid/yan/Retina/train.csv', 'w') as f:\n",
    "#     writer = csv.writer(f, delimiter='\\n')\n",
    "#     writer.writerow(train_list)"
   ]
  },
  {
   "cell_type": "code",
   "execution_count": null,
   "id": "c0026061-aec4-40fe-9c49-bf588bee5691",
   "metadata": {},
   "outputs": [],
   "source": [
    "train_label = [label for fname, label in labels.items() if fname in img_paths]"
   ]
  },
  {
   "cell_type": "code",
   "execution_count": null,
   "id": "106a29ea-84ec-4aa7-aaa4-62eb91a264dd",
   "metadata": {},
   "outputs": [],
   "source": [
    "from collections import Counter\n",
    "Counter(train_label)"
   ]
  },
  {
   "cell_type": "code",
   "execution_count": 3,
   "id": "8c12fdac-c532-4015-826e-c22e7b92ab93",
   "metadata": {},
   "outputs": [],
   "source": [
    "# COVID mean and std\n",
    "class Args:\n",
    "    data_set = 'COVIDx'\n",
    "    # data_set = 'Retina'\n",
    "    input_size = 224\n",
    "    window_size = (224 // 16, 224 //16)\n",
    "    second_input_size = 112\n",
    "    train_interpolation='bicubic'\n",
    "    second_interpolation='lanczos'\n",
    "    num_mask_patches=75\n",
    "    max_mask_patches_per_block=None\n",
    "    min_mask_patches_per_block=16\n",
    "    split_type='central' \n",
    "    # single_client='train.csv' \n",
    "    single_client='train.csv' \n",
    "    discrete_vae_type = \"dall-e\"\n",
    "    # data_path = '/raid/yan/Retina/'\n",
    "    data_path = '/raid/yan/COVIDx/'\n",
    "\n",
    "args=Args()"
   ]
  },
  {
   "cell_type": "code",
   "execution_count": null,
   "id": "966721e3-7c05-4906-bcee-2ecb6b265e4e",
   "metadata": {},
   "outputs": [],
   "source": [
    "nimages = 0\n",
    "mean = 0.0\n",
    "var = 0.0\n",
    "\n",
    "dataset_train = DatasetFLBEiTPretrain(args, no_transform=True)\n",
    "sampler_train = torch.utils.data.RandomSampler(dataset_train)\n",
    "\n",
    "data_loader_train = torch.utils.data.DataLoader(\n",
    "    dataset_train, \n",
    "    sampler=sampler_train,\n",
    "    batch_size=1,\n",
    "    num_workers=1,\n",
    "    pin_memory=True,\n",
    "    drop_last=True,\n",
    ")\n",
    "        \n",
    "for i_batch, batch_target in enumerate(data_loader_train):\n",
    "    \n",
    "    batch = batch_target[0]\n",
    "    # print(batch.size)\n",
    "    # Rearrange batch to be the shape of [B, C, W * H]\n",
    "    batch = batch.view(batch.size(0), batch.size(1), -1)\n",
    "    # Update total number of images\n",
    "    nimages += batch.size(0)\n",
    "    # Compute mean and std here\n",
    "    # print(torch.max(batch))\n",
    "    # print(batch.shape)\n",
    "    # print(torch.min(batch))\n",
    "    mean += batch.mean(2).sum(0) \n",
    "    var += batch.var(2).sum(0)\n",
    "\n",
    "mean /= nimages\n",
    "var /= nimages\n",
    "std = torch.sqrt(var)\n",
    "\n",
    "print(mean)\n",
    "print(std)\n",
    "# tensor([0.5017, 0.5020, 0.5031])\n",
    "# tensor([0.2269, 0.2269, 0.2270])"
   ]
  },
  {
   "cell_type": "code",
   "execution_count": null,
   "id": "1122fe34-7dcd-423a-9375-e3705ca5bb49",
   "metadata": {},
   "outputs": [],
   "source": [
    "from PIL import Image\n",
    "img = np.array(Image.open('/raid/yan/COVIDx/train/sub-S03191_ses-E06595_run-1_bp-chest_vp-pa_dx-corrected.png'))\n",
    "# img = Image.open('/raid/yan/COVIDx/train/wong-0000.jpg')"
   ]
  },
  {
   "cell_type": "code",
   "execution_count": null,
   "id": "447a50bf-c959-4672-aa70-6e16090821dd",
   "metadata": {},
   "outputs": [],
   "source": [
    "np.stack((img,)*3, axis=-1).shape"
   ]
  },
  {
   "cell_type": "code",
   "execution_count": null,
   "id": "6fe89e9c-9608-47ae-983b-fd3832c8cc02",
   "metadata": {},
   "outputs": [],
   "source": [
    "# if img.ndim < 3:\n",
    "#     img = np.stack((img,)*3, axis=-1)\n",
    "if img.shape[2] >= 3:\n",
    "    img = img[:,:,:3]\n",
    "    plot = True\n",
    "    plt.figure()\n",
    "    plt.imshow(img)\n",
    "    plt.title('new')\n",
    "    plt.show()"
   ]
  },
  {
   "cell_type": "code",
   "execution_count": null,
   "id": "80fd91f5-c8b0-458b-902b-f7637eae48c7",
   "metadata": {},
   "outputs": [],
   "source": [
    "# sample = np.transpose(img,(2,0,1))\n",
    "sample = Image.fromarray(np.uint8(img))"
   ]
  },
  {
   "cell_type": "code",
   "execution_count": null,
   "id": "da11c789-eb54-489b-9707-6dfa5091871e",
   "metadata": {},
   "outputs": [],
   "source": [
    "sample"
   ]
  },
  {
   "cell_type": "code",
   "execution_count": null,
   "id": "3b45d1b8-6e4f-4e90-90e3-58be81490b33",
   "metadata": {},
   "outputs": [],
   "source": [
    "torch.min(sample)"
   ]
  },
  {
   "cell_type": "code",
   "execution_count": null,
   "id": "fe1f1a32-6674-4fb7-b6ad-bab042486605",
   "metadata": {},
   "outputs": [],
   "source": [
    "# img = img[:3,:,:]\n",
    "# sample = img.permute(1,2,0)\n",
    "# plt.imshow(sample)\n",
    "# sample = Image.fromarray(np.uint8(sample.numpy()))\n",
    "# sample = self.transform(sample)        "
   ]
  },
  {
   "cell_type": "code",
   "execution_count": null,
   "id": "f877b4db-9ab6-48a7-bb3e-53a77f1d50a2",
   "metadata": {},
   "outputs": [],
   "source": [
    "plt.figure()\n",
    "plt.imshow(sample.permute(1, 2, 0)*(1/255))\n",
    "plt.show()"
   ]
  },
  {
   "cell_type": "code",
   "execution_count": null,
   "id": "ae188fdb-3eca-4e06-a72a-ad7978218fcf",
   "metadata": {},
   "outputs": [],
   "source": [
    "plt.imshow(img[0,:,:] != img[3,:,:])"
   ]
  },
  {
   "cell_type": "code",
   "execution_count": null,
   "id": "e9dec605-ee9c-449f-9782-3dd9e79e4d33",
   "metadata": {},
   "outputs": [],
   "source": []
  }
 ],
 "metadata": {
  "kernelspec": {
   "display_name": "Python 3 (ipykernel)",
   "language": "python",
   "name": "python3"
  },
  "language_info": {
   "codemirror_mode": {
    "name": "ipython",
    "version": 3
   },
   "file_extension": ".py",
   "mimetype": "text/x-python",
   "name": "python",
   "nbconvert_exporter": "python",
   "pygments_lexer": "ipython3",
   "version": "3.8.12"
  }
 },
 "nbformat": 4,
 "nbformat_minor": 5
}
